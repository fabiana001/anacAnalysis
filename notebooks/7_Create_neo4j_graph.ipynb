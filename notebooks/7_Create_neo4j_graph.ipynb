{
 "cells": [
  {
   "cell_type": "markdown",
   "metadata": {},
   "source": [
    "# Creazione grafo per Neo4j\n",
    "\n",
    "Questo notebook richiede in input i seguenti file (generati dal notebook *6_Graph_layer_generation*):\n",
    "\n",
    "- \"oggetti_aggregati.pickle\", file contenente le informazioni da associare ad un nodo;\n",
    "- Matrici K nearest neighbors *I* e *D* (i.e. normalized_matrix_embedding_21278terms_weigthedTrue.npysimilarity_I_100_k.npy, normalized_matrix_embedding_21278terms_weigthedTrue.npysimilarity_D_100_k.npy)\n",
    "- 'tf.pickle'\n",
    "- 'sparse_matrix_tfidf.npz'\n",
    "\n",
    "Il notebook restituisce due file csv *nodes.csv* e *edges.csv*. Questi csv possono essere direttamente caricati in Neo4j attraverso bulk download.\n",
    "Di seguito i comandi per il bulk download in Neo4j:\n",
    "\n",
    "``` bash\n",
    "USING PERIODIC COMMIT 500\n",
    "LOAD CSV WITH HEADERS FROM \"file:///nodes.csv\" AS csvLine\n",
    "CREATE (p:Node { id: toInteger(csvLine.id_s), \n",
    "type_id: toInteger(csvLine.type_id),\n",
    "node_type: csvLine.node_type,\n",
    "fiscal_code: csvLine.fiscal_code,\n",
    "relevant_terms: csvLine.relevant_terms,\n",
    "region: csvLine.region,\n",
    "province: csvLine.province,\n",
    "city: csvLine.city,\n",
    "name: csvLine.name,\n",
    "istat_code: csvLine.istat_code,\n",
    "administrative_code: csvLine.administrative_code,\n",
    "company_type: csvLine.company_type,\n",
    "nation: csvLine.nation})\n",
    "\n",
    "CREATE CONSTRAINT ON (node:Node) ASSERT node.id IS UNIQUE\n",
    "\n",
    "##creazione edges\n",
    "USING PERIODIC COMMIT 500\n",
    "LOAD CSV WITH HEADERS FROM \"file:///edges.csv\" AS csvLine\n",
    "MATCH (node1:Node { id: toInteger(csvLine.src)}), (node2:Node { id: toInteger(csvLine.dst)})\n",
    "CREATE (node1)-[:SEMANTIC { score: csvLine.score }]->(node2)\n",
    "\n",
    "[INDEXING]\n",
    "CREATE INDEX ON :Node(fiscal_code);\n",
    "CREATE INDEX ON :Node(type_id);\n",
    "```\n",
    "\n",
    "**Note**\n",
    "\n",
    "1. Per lanciare un'istanza di Neo4J esegui il docker-compose in **anacAnalysis/web_api/**\n",
    "2. Per aggiungere un file in un container esegui il comando ``` docker cp nodes.csv mycontainer:/nodes.csv```"
   ]
  },
  {
   "cell_type": "code",
   "execution_count": 3,
   "metadata": {},
   "outputs": [],
   "source": [
    "import pandas as pd\n",
    "import numpy as np\n",
    "\n",
    "from time import time\n",
    "from utils import textual_analysis\n",
    "import pickle\n",
    "import scipy"
   ]
  },
  {
   "cell_type": "code",
   "execution_count": 4,
   "metadata": {},
   "outputs": [],
   "source": [
    "base_path = \"data/final_data/n6/\""
   ]
  },
  {
   "cell_type": "code",
   "execution_count": 5,
   "metadata": {
    "scrolled": true
   },
   "outputs": [
    {
     "name": "stdout",
     "output_type": "stream",
     "text": [
      "Dataset loaded in 0.084 sec\n",
      "<class 'pandas.core.frame.DataFrame'>\n",
      "Int64Index: 61059 entries, 0 to 61058\n",
      "Data columns (total 15 columns):\n",
      "codiceFiscaleStruttura     61059 non-null object\n",
      "oggetto                    61059 non-null object\n",
      "tipoStruttura              61059 non-null object\n",
      "#Partita_Iva               61059 non-null object\n",
      "Ragione_Sociale            61059 non-null object\n",
      "Forma_Societaria           61053 non-null object\n",
      "Nazione_Sede_legale        61059 non-null object\n",
      "Regione_Sede_legale        61052 non-null object\n",
      "Provincia_Sede_legale      61052 non-null object\n",
      "Comune_Sede_legale         61052 non-null object\n",
      "Indirizzo_Sede_legale      61057 non-null object\n",
      "Numero_Aggiudicazioni      61059 non-null int64\n",
      "Numero_Abilitazioni        61059 non-null int64\n",
      "Numero_Transazioni         61059 non-null int64\n",
      "Numero_Contratti_attivi    61059 non-null int64\n",
      "dtypes: int64(4), object(11)\n",
      "memory usage: 7.5+ MB\n"
     ]
    }
   ],
   "source": [
    "df_file_name = base_path + 'oggetti_aggregati.pickle'\n",
    "\n",
    "t = time()\n",
    "df = pd.read_pickle(df_file_name)\n",
    "total = time() - t\n",
    "\n",
    "print(\"Dataset loaded in %0.3f sec\" % total)\n",
    "\n",
    "df.info()"
   ]
  },
  {
   "cell_type": "code",
   "execution_count": 17,
   "metadata": {},
   "outputs": [],
   "source": [
    "columns_to_rename = { \"Comune_Sede_legale\": \"comune\", \n",
    "                     \"Provincia_Sede_legale\": \"provincia\",\n",
    "                     \"Regione_Sede_legale\" : \"regione\",\n",
    "                     \"Indirizzo_Sede_legale\": \"indirizzo\",\n",
    "                     \"Ragione_Sociale\" : \"ragione_sociale\",\n",
    "                     \"Forma_Societaria\" : \"forma_societaria\",\n",
    "                     \"Nazione_Sede_legale\" : \"nazione\"\n",
    "                     \n",
    "    \n",
    "}\n",
    "df.rename(columns= columns_to_rename, inplace = True)"
   ]
  },
  {
   "cell_type": "code",
   "execution_count": 6,
   "metadata": {},
   "outputs": [],
   "source": [
    "tf = pickle.load(open(base_path + \"tf.pickle\", \"rb\"))\n",
    "m = scipy.sparse.load_npz(base_path + 'sparse_matrix_tfidf.npz')"
   ]
  },
  {
   "cell_type": "code",
   "execution_count": 7,
   "metadata": {},
   "outputs": [],
   "source": [
    "I = np.load(base_path + \"normalized_matrix_embedding_21278terms_weigthedFalse.npysimilarity_I_100_k.npy\")\n",
    "D = np.load(base_path + \"normalized_matrix_embedding_21278terms_weigthedFalse.npysimilarity_D_100_k.npy\")"
   ]
  },
  {
   "cell_type": "code",
   "execution_count": 8,
   "metadata": {},
   "outputs": [],
   "source": [
    "def get_min_or_default(array, default_value, threshold = 0.7):\n",
    "    \"\"\"\n",
    "    return the index of the smallest element compared to the threshold\n",
    "    \"\"\"\n",
    "    res = D.shape[1]\n",
    "    try:\n",
    "        res = np.min(np.where(array < threshold))\n",
    "    except:\n",
    "        return res\n",
    "    return res\n",
    "\n",
    "\n",
    "def get_top_scores(Xtr, features, row_id, top_n=25):\n",
    "    ''' Get top n score terms (with respect to tfidf values) of the input row (e.g.[0.34 , 0.14, 0.06]).''' \n",
    "    row = np.squeeze(Xtr[row_id].toarray())\n",
    "    topn_ids = np.argsort(row)[::-1][:top_n]\n",
    "    top_score = [\"{0:.2f}\".format(row[i]) for i in topn_ids if row[i] > 0]\n",
    "    return top_score\n",
    "\n",
    "def get_top_terms(Xtr, features, row_id, top_n=25):\n",
    "    ''' Get top n terms (with respect to tfidf values) of the input row (e.g.[stand , catering, fornitura]).''' \n",
    "    row = np.squeeze(Xtr[row_id].toarray())\n",
    "    topn_ids = np.argsort(row)[::-1][:top_n]\n",
    "    top_terms = [features[i] for i in topn_ids if row[i] > 0]\n",
    "    return top_terms"
   ]
  },
  {
   "cell_type": "code",
   "execution_count": 9,
   "metadata": {},
   "outputs": [],
   "source": [
    "class Node:\n",
    "    def __init__(self, type_id, node_type, id_s, fiscal_coderelevant_terms, region, province, city, address, name, istat_code, administrative_code, company_type, nation):\n",
    "        self.type_id = type_id\n",
    "        self.node_type = node_type\n",
    "        self.id_s = id_s\n",
    "        self.fiscal_code = fiscal_code\n",
    "        self.relevant_terms = relevant_terms.replace(\",\", \"\")\n",
    "        self.region = region.replace(\",\", \"\")\n",
    "        self.province = province.replace(\",\", \"\")\n",
    "        self.city = city.replace(\",\", \"\")\n",
    "        self.address = address.replace(\",\", \"\")\n",
    "        self.name = name.replace(\",\", \"\")\n",
    "        self.istat_code = istat_code.replace(\",\", \"\")\n",
    "        self.administrative_code = administrative_code.replace(\",\", \"\")\n",
    "        self.company_type = company_type.replace(\",\", \"\")\n",
    "        self.nation = nation.replace(\",\", \"\")\n",
    "class Edge:\n",
    "    def __init__(self, src, dst, score):\n",
    "        self.src = src\n",
    "        self.dst = dst\n",
    "        self.score = score\n",
    "        \n",
    "from collections import namedtuple\n",
    "cols_node = ['type_id', 'node_type', 'id_s', 'fiscal_code', 'relevant_terms', 'region', 'province', 'city', 'address', 'name', 'istat_code', 'administrative_code', 'company_type', 'nation']\n",
    "Node = namedtuple('Node', cols_node) \n",
    "\n",
    "Edge = namedtuple('Edge', ['src', 'dst', 'score']) \n",
    "        "
   ]
  },
  {
   "cell_type": "code",
   "execution_count": 24,
   "metadata": {},
   "outputs": [],
   "source": [
    "def create_struttura(id_s, best_terms, props):\n",
    "    if props['tipoStruttura'] == 'PA':\n",
    "        node = Node(\n",
    "              type_id = 1,\n",
    "              node_type = 'PA',\n",
    "              id_s = id_s,\n",
    "              fiscal_code = props['codiceFiscaleStruttura'].strip(),\n",
    "              relevant_terms = best_terms,\n",
    "              region = props['regione'],\n",
    "              province = props['provincia'],\n",
    "              city = props['comune'], \n",
    "              address = props['indirizzo'],          \n",
    "              istat_code = props['tipologia_istat'],\n",
    "              administrative_code = props['tipologia_amm'],\n",
    "              name = props['name'],\n",
    "              company_type = props['forma_societaria'],\n",
    "              nation = props['nazione'] \n",
    "        )  \n",
    "        return node\n",
    "    \n",
    "    elif props['tipoStruttura'] == 'AGG':\n",
    "        node = Node(\n",
    "              type_id = 2,\n",
    "              node_type = 'COMPANY',\n",
    "              id_s = id_s,\n",
    "              fiscal_code = props['codiceFiscaleStruttura'].strip(),\n",
    "              relevant_terms =  best_terms,\n",
    "              name = props['ragione_sociale'],\n",
    "              company_type = props['forma_societaria'],\n",
    "              region = props['regione'],\n",
    "              province = props['provincia'],\n",
    "              city = props['comune'], \n",
    "              address = props['indirizzo'],\n",
    "              #administrative_code = props['tipologia_amm'],\n",
    "              #istat_code = props['tipologia_istat'],\n",
    "              administrative_code = 'Nan',\n",
    "              istat_code = 'Nan',\n",
    "              nation = props['nazione'])\n",
    "        return node\n",
    "    else:\n",
    "        print('error structure not recognized {}'.format(props['tipoStruttura']))\n",
    "        print(id_s, best_terms, props)\n",
    "        return None\n",
    "    \n"
   ]
  },
  {
   "cell_type": "code",
   "execution_count": 25,
   "metadata": {},
   "outputs": [],
   "source": [
    "#creazione nodi\n",
    "import csv\n",
    "def write_nodes(file, n = None):\n",
    "    if n is None:\n",
    "        n = len(df)\n",
    "    try:\n",
    "        with open(file, 'w') as csvfile:\n",
    "            writer = csv.writer(csvfile)\n",
    "            writer.writerow(Node._fields) # we are being naughty here and using a private attribute\n",
    "\n",
    "            j = 0\n",
    "            for i in df.index[:n]:\n",
    "\n",
    "                tfidf_text = ' '.join(textual_analysis.top_feats_in_doc(m,  tf.get_feature_names(), i ,50))\n",
    "                data = df.loc[i]\n",
    "                node = create_struttura(i, tfidf_text, data)\n",
    "                if node is not None:\n",
    "                    writer.writerow(node)\n",
    "                j +=1\n",
    "                   \n",
    "    except Exception as e:\n",
    "        print('got exception ', e)"
   ]
  },
  {
   "cell_type": "code",
   "execution_count": 26,
   "metadata": {},
   "outputs": [],
   "source": [
    "#creazione edges\n",
    "def write_edges(file, n = None):\n",
    "    '''\n",
    "    In Neo4j, ALL relationships are directed. However, you can have the notion of undirected edges at query time.\n",
    "    For this reason, will be stored only relationships <a,b>, where a.id < b.id\n",
    "    '''\n",
    "    min_knn_indices = [get_min_or_default(row, D.shape[1]) for row in D]\n",
    "    if n is None:\n",
    "        n = len(df)\n",
    "    #counter_src_not_found = 0\n",
    "    #counter_dst_not_found = 0\n",
    "    try: \n",
    "        with open(file, 'w') as csvfile:\n",
    "            writer = csv.writer(csvfile)\n",
    "            writer.writerow(Edge._fields) \n",
    "\n",
    "            j = 0\n",
    "            for i in df.index[:n]:\n",
    "                knn = min_knn_indices[i]\n",
    "                edges = [ Edge(src = i, dst = I[i][o], score = round(D[i][o],2)) for o in range(knn)]\n",
    "                for e in edges:\n",
    "                    \n",
    "                    if(e.src < e.dst):\n",
    "                        writer.writerow(e)  \n",
    "                    \n",
    "    except Exception as ex:\n",
    "        print('got exception ', ex)\n"
   ]
  },
  {
   "cell_type": "code",
   "execution_count": 27,
   "metadata": {},
   "outputs": [
    {
     "name": "stdout",
     "output_type": "stream",
     "text": [
      "Dataset loaded in 748.991 sec\n"
     ]
    }
   ],
   "source": [
    "t = time()\n",
    "write_nodes(base_path + \"node.csv\")\n",
    "total = time() - t\n",
    "print(\"Dataset loaded in %0.3f sec\" % total)"
   ]
  },
  {
   "cell_type": "code",
   "execution_count": 28,
   "metadata": {},
   "outputs": [
    {
     "name": "stdout",
     "output_type": "stream",
     "text": [
      "Dataset loaded in 34.807 sec\n"
     ]
    }
   ],
   "source": [
    "t = time()\n",
    "write_edges(base_path + \"edges.csv\")\n",
    "total = time() - t\n",
    "print(\"Dataset loaded in %0.3f sec\" % total)"
   ]
  },
  {
   "cell_type": "code",
   "execution_count": null,
   "metadata": {},
   "outputs": [],
   "source": []
  }
 ],
 "metadata": {
  "kernelspec": {
   "display_name": "Python 3",
   "language": "python",
   "name": "python3"
  },
  "language_info": {
   "codemirror_mode": {
    "name": "ipython",
    "version": 3
   },
   "file_extension": ".py",
   "mimetype": "text/x-python",
   "name": "python",
   "nbconvert_exporter": "python",
   "pygments_lexer": "ipython3",
   "version": "3.6.5"
  }
 },
 "nbformat": 4,
 "nbformat_minor": 2
}
