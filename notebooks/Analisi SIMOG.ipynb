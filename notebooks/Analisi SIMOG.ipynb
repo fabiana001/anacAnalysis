{
 "cells": [
  {
   "cell_type": "markdown",
   "metadata": {},
   "source": [
    "## Analisi SIMOG\n",
    "\n",
    "Il seguente notebook analizza la spesa ICT per gli anni 2013-2017.\n",
    "\n",
    "In particolare, vengono consiterate spese ict tutti i contratti aventi i seguenti codici cpv:\n",
    "    - 302*: Apparecchiature informatiche e forniture;\n",
    "    - 35710000: Sistemi elettronici di comando, controllo, comunicazione e informatici;\n",
    "    - 39134*: Arredo informatico;    \n",
    "    - 42960000: Sistemi di comando e controllo, attrezzature per stampa, grafica, automazione uffici e trattamento dell'informazione\n",
    "    - 48*: Pacchetti software e sistemi di informazione\n",
    "    - 503*: Servizi di riparazione, manutenzione e servizi affini connessi a personal computer, attrezzature d'ufficio, apparecchiature per telecomunicazione e impianti audiovisivi\n",
    "    - 72*: Servizi informatici: consulenza, sviluppo di software, Internet e supporto\n",
    "    - 80533*: Servizi di avviamento e istruzione per utenti di elaboratori elettronici"
   ]
  },
  {
   "cell_type": "code",
   "execution_count": 96,
   "metadata": {},
   "outputs": [],
   "source": [
    "import pandas as pd\n",
    "import numpy as np\n",
    "import re\n",
    "import matplotlib.pyplot as plt\n",
    "import math\n",
    "from matplotlib import pyplot as plt\n"
   ]
  },
  {
   "cell_type": "code",
   "execution_count": 3,
   "metadata": {},
   "outputs": [],
   "source": [
    "df = pd.read_pickle(\"data/simog/simog.pkl\")\n",
    "#df = pd.read_json(\"data/simog/simog.json\",  lines=True, chunksize=100000)"
   ]
  },
  {
   "cell_type": "code",
   "execution_count": 4,
   "metadata": {},
   "outputs": [
    {
     "data": {
      "text/html": [
       "<div>\n",
       "<style scoped>\n",
       "    .dataframe tbody tr th:only-of-type {\n",
       "        vertical-align: middle;\n",
       "    }\n",
       "\n",
       "    .dataframe tbody tr th {\n",
       "        vertical-align: top;\n",
       "    }\n",
       "\n",
       "    .dataframe thead th {\n",
       "        text-align: right;\n",
       "    }\n",
       "</style>\n",
       "<table border=\"1\" class=\"dataframe\">\n",
       "  <thead>\n",
       "    <tr style=\"text-align: right;\">\n",
       "      <th></th>\n",
       "      <th>cf_amministrazione</th>\n",
       "      <th>denominazione_amministrazione</th>\n",
       "      <th>data_pubblicazione</th>\n",
       "      <th>id_gara</th>\n",
       "      <th>cig</th>\n",
       "      <th>oggetto_gara</th>\n",
       "      <th>oggetto_lotto</th>\n",
       "      <th>cig_acc_quadro</th>\n",
       "      <th>codice_cpv</th>\n",
       "      <th>descrizione_cpv</th>\n",
       "      <th>...</th>\n",
       "      <th>luogo_istat</th>\n",
       "      <th>sigla_provincia</th>\n",
       "      <th>luogo_nuts</th>\n",
       "      <th>flag_escluso</th>\n",
       "      <th>motivo_esclusione</th>\n",
       "      <th>id_categoria_prevalente</th>\n",
       "      <th>descrizione_categoria</th>\n",
       "      <th>data_aggiudicazione_def</th>\n",
       "      <th>ts</th>\n",
       "      <th>processing_dttm</th>\n",
       "    </tr>\n",
       "  </thead>\n",
       "  <tbody>\n",
       "    <tr>\n",
       "      <th>0</th>\n",
       "      <td>01464630423</td>\n",
       "      <td>AZ.OPS.UNIV.OSPEDALI RIUN.UMBERTO I-LANCISI-SA...</td>\n",
       "      <td>2018-06-14</td>\n",
       "      <td>7121247</td>\n",
       "      <td>75334542E8</td>\n",
       "      <td>Gara Farmaci SUAM - LOTTO 839 - CIPROFLOXACINA...</td>\n",
       "      <td>AOAN - LOTTO 839 - CIPROFLOXACINA (cod. ATC J0...</td>\n",
       "      <td>715786483A</td>\n",
       "      <td>33680000-0</td>\n",
       "      <td>ARTICOLI DI FARMACIA</td>\n",
       "      <td>...</td>\n",
       "      <td></td>\n",
       "      <td></td>\n",
       "      <td>ITI3</td>\n",
       "      <td>N</td>\n",
       "      <td></td>\n",
       "      <td>FB</td>\n",
       "      <td>FORNITURA DI BENI</td>\n",
       "      <td></td>\n",
       "      <td>2018-06-25 18:42:13.14</td>\n",
       "      <td>1530153187987</td>\n",
       "    </tr>\n",
       "    <tr>\n",
       "      <th>1</th>\n",
       "      <td>01464630423</td>\n",
       "      <td>AZ.OPS.UNIV.OSPEDALI RIUN.UMBERTO I-LANCISI-SA...</td>\n",
       "      <td>2018-06-14</td>\n",
       "      <td>7121250</td>\n",
       "      <td>7533457561</td>\n",
       "      <td>Gara Farmaci SUAM - LOTTO 364 - MANNITOLO (cod...</td>\n",
       "      <td>AOAN - LOTTO 364 - MANNITOLO (cod. ATC B05BC01...</td>\n",
       "      <td>7157384C1D</td>\n",
       "      <td>33680000-0</td>\n",
       "      <td>ARTICOLI DI FARMACIA</td>\n",
       "      <td>...</td>\n",
       "      <td></td>\n",
       "      <td></td>\n",
       "      <td>ITI3</td>\n",
       "      <td>N</td>\n",
       "      <td></td>\n",
       "      <td>FB</td>\n",
       "      <td>FORNITURA DI BENI</td>\n",
       "      <td></td>\n",
       "      <td>2018-06-25 18:42:13.14</td>\n",
       "      <td>1530153187987</td>\n",
       "    </tr>\n",
       "    <tr>\n",
       "      <th>2</th>\n",
       "      <td>01464630423</td>\n",
       "      <td>AZ.OPS.UNIV.OSPEDALI RIUN.UMBERTO I-LANCISI-SA...</td>\n",
       "      <td>2018-06-14</td>\n",
       "      <td>7121259</td>\n",
       "      <td>7533465BF9</td>\n",
       "      <td>Gara Farmaci SUAM - LOTTO 270 - CIANOCOBALAMIN...</td>\n",
       "      <td>AOAN - LOTTO 270 - CIANOCOBALAMINA (cod. ATC B...</td>\n",
       "      <td>7157290E8A</td>\n",
       "      <td>33680000-0</td>\n",
       "      <td>ARTICOLI DI FARMACIA</td>\n",
       "      <td>...</td>\n",
       "      <td></td>\n",
       "      <td></td>\n",
       "      <td>ITI3</td>\n",
       "      <td>N</td>\n",
       "      <td></td>\n",
       "      <td>FB</td>\n",
       "      <td>FORNITURA DI BENI</td>\n",
       "      <td></td>\n",
       "      <td>2018-06-25 18:42:13.14</td>\n",
       "      <td>1530153187987</td>\n",
       "    </tr>\n",
       "    <tr>\n",
       "      <th>3</th>\n",
       "      <td>01464630423</td>\n",
       "      <td>AZ.OPS.UNIV.OSPEDALI RIUN.UMBERTO I-LANCISI-SA...</td>\n",
       "      <td>2018-06-14</td>\n",
       "      <td>7121262</td>\n",
       "      <td>7533468E72</td>\n",
       "      <td>Gara Farmaci SUAM - LOTTO 543 - CANDESARTAN CI...</td>\n",
       "      <td>AOAN - LOTTO 543 - CANDESARTAN CILEXETIL (cod....</td>\n",
       "      <td>7157566251</td>\n",
       "      <td>33680000-0</td>\n",
       "      <td>ARTICOLI DI FARMACIA</td>\n",
       "      <td>...</td>\n",
       "      <td></td>\n",
       "      <td></td>\n",
       "      <td>ITI3</td>\n",
       "      <td>N</td>\n",
       "      <td></td>\n",
       "      <td>FB</td>\n",
       "      <td>FORNITURA DI BENI</td>\n",
       "      <td></td>\n",
       "      <td>2018-06-25 18:42:13.14</td>\n",
       "      <td>1530153187987</td>\n",
       "    </tr>\n",
       "    <tr>\n",
       "      <th>4</th>\n",
       "      <td>01464630423</td>\n",
       "      <td>AZ.OPS.UNIV.OSPEDALI RIUN.UMBERTO I-LANCISI-SA...</td>\n",
       "      <td>2018-06-14</td>\n",
       "      <td>7121265</td>\n",
       "      <td>75334721C3</td>\n",
       "      <td>Gara Farmaci SUAM - LOTTO 1309 - SODIO VALPROA...</td>\n",
       "      <td>AOAN - LOTTO 1309 - SODIO VALPROATO/ACIDO VALP...</td>\n",
       "      <td>7158339038</td>\n",
       "      <td>33680000-0</td>\n",
       "      <td>ARTICOLI DI FARMACIA</td>\n",
       "      <td>...</td>\n",
       "      <td></td>\n",
       "      <td></td>\n",
       "      <td>ITI3</td>\n",
       "      <td>N</td>\n",
       "      <td></td>\n",
       "      <td>FB</td>\n",
       "      <td>FORNITURA DI BENI</td>\n",
       "      <td></td>\n",
       "      <td>2018-06-25 18:42:13.14</td>\n",
       "      <td>1530153187987</td>\n",
       "    </tr>\n",
       "  </tbody>\n",
       "</table>\n",
       "<p>5 rows × 26 columns</p>\n",
       "</div>"
      ],
      "text/plain": [
       "  cf_amministrazione                      denominazione_amministrazione  \\\n",
       "0        01464630423  AZ.OPS.UNIV.OSPEDALI RIUN.UMBERTO I-LANCISI-SA...   \n",
       "1        01464630423  AZ.OPS.UNIV.OSPEDALI RIUN.UMBERTO I-LANCISI-SA...   \n",
       "2        01464630423  AZ.OPS.UNIV.OSPEDALI RIUN.UMBERTO I-LANCISI-SA...   \n",
       "3        01464630423  AZ.OPS.UNIV.OSPEDALI RIUN.UMBERTO I-LANCISI-SA...   \n",
       "4        01464630423  AZ.OPS.UNIV.OSPEDALI RIUN.UMBERTO I-LANCISI-SA...   \n",
       "\n",
       "  data_pubblicazione  id_gara         cig  \\\n",
       "0         2018-06-14  7121247  75334542E8   \n",
       "1         2018-06-14  7121250  7533457561   \n",
       "2         2018-06-14  7121259  7533465BF9   \n",
       "3         2018-06-14  7121262  7533468E72   \n",
       "4         2018-06-14  7121265  75334721C3   \n",
       "\n",
       "                                        oggetto_gara  \\\n",
       "0  Gara Farmaci SUAM - LOTTO 839 - CIPROFLOXACINA...   \n",
       "1  Gara Farmaci SUAM - LOTTO 364 - MANNITOLO (cod...   \n",
       "2  Gara Farmaci SUAM - LOTTO 270 - CIANOCOBALAMIN...   \n",
       "3  Gara Farmaci SUAM - LOTTO 543 - CANDESARTAN CI...   \n",
       "4  Gara Farmaci SUAM - LOTTO 1309 - SODIO VALPROA...   \n",
       "\n",
       "                                       oggetto_lotto cig_acc_quadro  \\\n",
       "0  AOAN - LOTTO 839 - CIPROFLOXACINA (cod. ATC J0...     715786483A   \n",
       "1  AOAN - LOTTO 364 - MANNITOLO (cod. ATC B05BC01...     7157384C1D   \n",
       "2  AOAN - LOTTO 270 - CIANOCOBALAMINA (cod. ATC B...     7157290E8A   \n",
       "3  AOAN - LOTTO 543 - CANDESARTAN CILEXETIL (cod....     7157566251   \n",
       "4  AOAN - LOTTO 1309 - SODIO VALPROATO/ACIDO VALP...     7158339038   \n",
       "\n",
       "   codice_cpv       descrizione_cpv       ...       luogo_istat  \\\n",
       "0  33680000-0  ARTICOLI DI FARMACIA       ...                     \n",
       "1  33680000-0  ARTICOLI DI FARMACIA       ...                     \n",
       "2  33680000-0  ARTICOLI DI FARMACIA       ...                     \n",
       "3  33680000-0  ARTICOLI DI FARMACIA       ...                     \n",
       "4  33680000-0  ARTICOLI DI FARMACIA       ...                     \n",
       "\n",
       "  sigla_provincia  luogo_nuts flag_escluso motivo_esclusione  \\\n",
       "0                        ITI3            N                     \n",
       "1                        ITI3            N                     \n",
       "2                        ITI3            N                     \n",
       "3                        ITI3            N                     \n",
       "4                        ITI3            N                     \n",
       "\n",
       "  id_categoria_prevalente descrizione_categoria data_aggiudicazione_def  \\\n",
       "0                      FB     FORNITURA DI BENI                           \n",
       "1                      FB     FORNITURA DI BENI                           \n",
       "2                      FB     FORNITURA DI BENI                           \n",
       "3                      FB     FORNITURA DI BENI                           \n",
       "4                      FB     FORNITURA DI BENI                           \n",
       "\n",
       "                       ts processing_dttm  \n",
       "0  2018-06-25 18:42:13.14   1530153187987  \n",
       "1  2018-06-25 18:42:13.14   1530153187987  \n",
       "2  2018-06-25 18:42:13.14   1530153187987  \n",
       "3  2018-06-25 18:42:13.14   1530153187987  \n",
       "4  2018-06-25 18:42:13.14   1530153187987  \n",
       "\n",
       "[5 rows x 26 columns]"
      ]
     },
     "execution_count": 4,
     "metadata": {},
     "output_type": "execute_result"
    }
   ],
   "source": [
    "df.head()"
   ]
  },
  {
   "cell_type": "code",
   "execution_count": 6,
   "metadata": {},
   "outputs": [],
   "source": [
    "def filterIT(s):\n",
    "    try:\n",
    "        m_obj = re.search(r'^(302|35710000|39134|42960000|48|503|72|80533)', s)\n",
    "        if m_obj:\n",
    "            return True\n",
    "        return False\n",
    "    \n",
    "    except:\n",
    "        return False"
   ]
  },
  {
   "cell_type": "code",
   "execution_count": 46,
   "metadata": {},
   "outputs": [
    {
     "name": "stderr",
     "output_type": "stream",
     "text": [
      "/home/ubuntu/anaconda3/lib/python3.6/site-packages/ipykernel_launcher.py:2: SettingWithCopyWarning: \n",
      "A value is trying to be set on a copy of a slice from a DataFrame.\n",
      "Try using .loc[row_indexer,col_indexer] = value instead\n",
      "\n",
      "See the caveats in the documentation: http://pandas.pydata.org/pandas-docs/stable/indexing.html#indexing-view-versus-copy\n",
      "  \n",
      "/home/ubuntu/anaconda3/lib/python3.6/site-packages/ipykernel_launcher.py:3: SettingWithCopyWarning: \n",
      "A value is trying to be set on a copy of a slice from a DataFrame.\n",
      "Try using .loc[row_indexer,col_indexer] = value instead\n",
      "\n",
      "See the caveats in the documentation: http://pandas.pydata.org/pandas-docs/stable/indexing.html#indexing-view-versus-copy\n",
      "  This is separate from the ipykernel package so we can avoid doing imports until\n",
      "/home/ubuntu/anaconda3/lib/python3.6/site-packages/ipykernel_launcher.py:4: SettingWithCopyWarning: \n",
      "A value is trying to be set on a copy of a slice from a DataFrame.\n",
      "Try using .loc[row_indexer,col_indexer] = value instead\n",
      "\n",
      "See the caveats in the documentation: http://pandas.pydata.org/pandas-docs/stable/indexing.html#indexing-view-versus-copy\n",
      "  after removing the cwd from sys.path.\n"
     ]
    }
   ],
   "source": [
    "it_df = df[df.codice_cpv.apply(filterIT)]\n",
    "it_df['data_pubblicazione'] = pd.to_datetime(it_df['data_pubblicazione'], errors='coerce')\n",
    "it_df['data_aggiudicazione_def'] = pd.to_datetime(it_df['data_aggiudicazione_def'], errors='coerce')\n",
    "it_df['processing_dttm'] = it_df['processing_dttm'].astype(np.int64)\n"
   ]
  },
  {
   "cell_type": "code",
   "execution_count": 8,
   "metadata": {},
   "outputs": [
    {
     "name": "stderr",
     "output_type": "stream",
     "text": [
      "/home/ubuntu/anaconda3/lib/python3.6/site-packages/ipykernel_launcher.py:1: SettingWithCopyWarning: \n",
      "A value is trying to be set on a copy of a slice from a DataFrame.\n",
      "Try using .loc[row_indexer,col_indexer] = value instead\n",
      "\n",
      "See the caveats in the documentation: http://pandas.pydata.org/pandas-docs/stable/indexing.html#indexing-view-versus-copy\n",
      "  \"\"\"Entry point for launching an IPython kernel.\n"
     ]
    }
   ],
   "source": [
    "it_df[\"importo_totale_bando_n\"] = pd.to_numeric(it_df.importo_totale_bando, errors='coerce')\n",
    "\n",
    "it_df[\"data_pubblicazione_anno\"] = it_df.data_pubblicazione.apply(lambda x: x.year)\n",
    "#it_df[\"data_pubblicazione_anno\"].value_counts()\n",
    "\n",
    "it_df[\"data_aggiudicazione_def_anno\"] = it_df.data_aggiudicazione_def.apply(lambda x: x.year)\n",
    "#it_df[\"data_aggiudicazione_def_anno\"].value_counts()"
   ]
  },
  {
   "cell_type": "markdown",
   "metadata": {},
   "source": [
    "## ANALISI ANNI 2013-2017"
   ]
  },
  {
   "cell_type": "code",
   "execution_count": 22,
   "metadata": {},
   "outputs": [],
   "source": [
    "it_df_2013_2017 = it_df[(it_df[\"data_aggiudicazione_def_anno\"]< 2018) & (it_df[\"data_aggiudicazione_def_anno\"]> 2012)]"
   ]
  },
  {
   "cell_type": "markdown",
   "metadata": {},
   "source": [
    "### Rimozione duplicati\n",
    "Il dataset è composto da cig duplicati (i.e. 1094 data record), si procede con l'eliminazione dei dare record con timestamp di processing più remoti\n"
   ]
  },
  {
   "cell_type": "code",
   "execution_count": 80,
   "metadata": {},
   "outputs": [
    {
     "name": "stdout",
     "output_type": "stream",
     "text": [
      "7035112613    23\n",
      "70216744B0     6\n",
      "6872607EB2     5\n",
      "67526796FD     5\n",
      "703289508E     5\n",
      "70456752F1     4\n",
      "3864420C41     4\n",
      "6754970994     4\n",
      "7010577F24     4\n",
      "7002405767     4\n",
      "Name: cig, dtype: int64\n"
     ]
    }
   ],
   "source": [
    "print(it_df_2013_2017.cig.value_counts()[:10])\n",
    "it_df_2013_2017_unique = it_df_2013_2017.sort_values('processing_dttm', ascending=False).drop_duplicates('cig').sort_index()"
   ]
  },
  {
   "cell_type": "code",
   "execution_count": 140,
   "metadata": {},
   "outputs": [
    {
     "data": {
      "image/png": "[encoded data removed]",
      "text/plain": [
       "<Figure size 432x288 with 1 Axes>"
      ]
     },
     "metadata": {},
     "output_type": "display_data"
    }
   ],
   "source": [
    "import seaborn as sns\n",
    "sns.countplot(x=\"data_pubblicazione_anno\", data=it_df_2013_2017_unique)\n",
    "plt.xticks(rotation=90)\n",
    "plt.title(\"Anno Pubblicazione gare\")\n",
    "plt.show()"
   ]
  },
  {
   "cell_type": "code",
   "execution_count": 141,
   "metadata": {},
   "outputs": [
    {
     "data": {
      "image/png": "[encoded data removed]",
      "text/plain": [
       "<Figure size 432x288 with 1 Axes>"
      ]
     },
     "metadata": {},
     "output_type": "display_data"
    }
   ],
   "source": [
    "import seaborn as sns\n",
    "sns.countplot(x=\"data_aggiudicazione_def_anno\", data=it_df_2013_2017_unique)\n",
    "plt.title(\"Anno aggiudicazioni gare\")\n",
    "plt.xticks(rotation=90)\n",
    "plt.show()"
   ]
  },
  {
   "cell_type": "code",
   "execution_count": 94,
   "metadata": {
    "scrolled": true
   },
   "outputs": [
    {
     "name": "stdout",
     "output_type": "stream",
     "text": [
      "spesa per anno in miliardi di euro\n"
     ]
    },
    {
     "data": {
      "text/plain": [
       "{2013: 5.68515964208,\n",
       " 2014: 4.706262345959001,\n",
       " 2015: 10.487345496389999,\n",
       " 2016: 14.406378169389999,\n",
       " 2017: 13.13564507884}"
      ]
     },
     "execution_count": 94,
     "metadata": {},
     "output_type": "execute_result"
    }
   ],
   "source": [
    "spesa = {}\n",
    "\n",
    "for y in range(2013, 2018):\n",
    "    spesa[y] = it_df_2013_2017_unique[it_df_2013_2017_unique[\"data_aggiudicazione_def_anno\"] == y].importo_totale_bando_n.sum()/math.pow(10, 9)\n",
    "\n",
    "print(\"spesa per anno in miliardi di euro\")    \n",
    "spesa"
   ]
  },
  {
   "cell_type": "code",
   "execution_count": 142,
   "metadata": {},
   "outputs": [
    {
     "data": {
      "image/png": "[encoded data removed]",
      "text/plain": [
       "<Figure size 432x288 with 1 Axes>"
      ]
     },
     "metadata": {},
     "output_type": "display_data"
    }
   ],
   "source": [
    "#ax = sns.lineplot(x=spesa.keys, y=spesa.values, hue=\"event\", err_style=\"bars\", ci=68)\n",
    "import seaborn as sns\n",
    "\n",
    "mean = np.mean(list(spesa.values()))\n",
    "\n",
    "plt.plot( spesa.keys(), spesa.values(), marker='o', color='mediumvioletred',  label='Spesa annua ict')\n",
    "plt.plot(spesa.keys(), np.full((len(spesa.keys())), mean),  label='Spesa media 2013-2017')\n",
    "plt.xticks(list(spesa.keys()))\n",
    "plt.title(\"Trend spesa ict in miliardi di euro\")\n",
    "plt.legend()\n",
    "plt.show()\n"
   ]
  },
  {
   "cell_type": "markdown",
   "metadata": {},
   "source": [
    "### Analisi spesa per cvp"
   ]
  },
  {
   "cell_type": "code",
   "execution_count": null,
   "metadata": {},
   "outputs": [],
   "source": []
  },
  {
   "cell_type": "code",
   "execution_count": null,
   "metadata": {},
   "outputs": [],
   "source": []
  },
  {
   "cell_type": "code",
   "execution_count": null,
   "metadata": {},
   "outputs": [],
   "source": []
  },
  {
   "cell_type": "code",
   "execution_count": null,
   "metadata": {},
   "outputs": [],
   "source": []
  },
  {
   "cell_type": "code",
   "execution_count": null,
   "metadata": {},
   "outputs": [],
   "source": []
  }
 ],
 "metadata": {
  "kernelspec": {
   "display_name": "Python 3",
   "language": "python",
   "name": "python3"
  },
  "language_info": {
   "codemirror_mode": {
    "name": "ipython",
    "version": 3
   },
   "file_extension": ".py",
   "mimetype": "text/x-python",
   "name": "python",
   "nbconvert_exporter": "python",
   "pygments_lexer": "ipython3",
   "version": "3.6.4"
  }
 },
 "nbformat": 4,
 "nbformat_minor": 2
}
