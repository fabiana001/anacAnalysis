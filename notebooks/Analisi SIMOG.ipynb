{
 "cells": [
  {
   "cell_type": "code",
   "execution_count": 1,
   "metadata": {},
   "outputs": [],
   "source": [
    "import pandas as pd\n",
    "import numpy as np\n",
    "import re\n",
    "import matplotlib.pyplot as plt"
   ]
  },
  {
   "cell_type": "code",
   "execution_count": null,
   "metadata": {},
   "outputs": [],
   "source": [
    "import glob\n",
    "glob.glob('data/simog/anac/*')\n"
   ]
  },
  {
   "cell_type": "code",
   "execution_count": 12,
   "metadata": {},
   "outputs": [
    {
     "ename": "MemoryError",
     "evalue": "",
     "output_type": "error",
     "traceback": [
      "\u001b[0;31m---------------------------------------------------------------------------\u001b[0m",
      "\u001b[0;31mMemoryError\u001b[0m                               Traceback (most recent call last)",
      "\u001b[0;32m<ipython-input-12-059014084620>\u001b[0m in \u001b[0;36m<module>\u001b[0;34m()\u001b[0m\n\u001b[0;32m----> 1\u001b[0;31m \u001b[0mdf\u001b[0m \u001b[0;34m=\u001b[0m \u001b[0mpd\u001b[0m\u001b[0;34m.\u001b[0m\u001b[0mconcat\u001b[0m\u001b[0;34m(\u001b[0m\u001b[0;34m[\u001b[0m\u001b[0mpd\u001b[0m\u001b[0;34m.\u001b[0m\u001b[0mread_parquet\u001b[0m\u001b[0;34m(\u001b[0m\u001b[0mf\u001b[0m\u001b[0;34m)\u001b[0m\u001b[0;32mfor\u001b[0m \u001b[0mf\u001b[0m \u001b[0;32min\u001b[0m \u001b[0mglob\u001b[0m\u001b[0;34m.\u001b[0m\u001b[0mglob\u001b[0m\u001b[0;34m(\u001b[0m\u001b[0;34m'data/simog/anac/*'\u001b[0m\u001b[0;34m)\u001b[0m\u001b[0;34m]\u001b[0m\u001b[0;34m,\u001b[0m\u001b[0maxis\u001b[0m\u001b[0;34m=\u001b[0m\u001b[0;36m1\u001b[0m\u001b[0;34m)\u001b[0m\u001b[0;34m.\u001b[0m\u001b[0mreset_index\u001b[0m\u001b[0;34m(\u001b[0m\u001b[0;34m)\u001b[0m\u001b[0;34m\u001b[0m\u001b[0m\n\u001b[0m",
      "\u001b[0;32m~/miniconda3/lib/python3.6/site-packages/pandas/core/frame.py\u001b[0m in \u001b[0;36mreset_index\u001b[0;34m(self, level, drop, inplace, col_level, col_fill)\u001b[0m\n\u001b[1;32m   3307\u001b[0m             \u001b[0mnew_obj\u001b[0m \u001b[0;34m=\u001b[0m \u001b[0mself\u001b[0m\u001b[0;34m\u001b[0m\u001b[0m\n\u001b[1;32m   3308\u001b[0m         \u001b[0;32melse\u001b[0m\u001b[0;34m:\u001b[0m\u001b[0;34m\u001b[0m\u001b[0m\n\u001b[0;32m-> 3309\u001b[0;31m             \u001b[0mnew_obj\u001b[0m \u001b[0;34m=\u001b[0m \u001b[0mself\u001b[0m\u001b[0;34m.\u001b[0m\u001b[0mcopy\u001b[0m\u001b[0;34m(\u001b[0m\u001b[0;34m)\u001b[0m\u001b[0;34m\u001b[0m\u001b[0m\n\u001b[0m\u001b[1;32m   3310\u001b[0m \u001b[0;34m\u001b[0m\u001b[0m\n\u001b[1;32m   3311\u001b[0m         \u001b[0;32mdef\u001b[0m \u001b[0m_maybe_casted_values\u001b[0m\u001b[0;34m(\u001b[0m\u001b[0mindex\u001b[0m\u001b[0;34m,\u001b[0m \u001b[0mlabels\u001b[0m\u001b[0;34m=\u001b[0m\u001b[0;32mNone\u001b[0m\u001b[0;34m)\u001b[0m\u001b[0;34m:\u001b[0m\u001b[0;34m\u001b[0m\u001b[0m\n",
      "\u001b[0;32m~/miniconda3/lib/python3.6/site-packages/pandas/core/generic.py\u001b[0m in \u001b[0;36mcopy\u001b[0;34m(self, deep)\u001b[0m\n\u001b[1;32m   4024\u001b[0m         \u001b[0mcopy\u001b[0m \u001b[0;34m:\u001b[0m \u001b[0mtype\u001b[0m \u001b[0mof\u001b[0m \u001b[0mcaller\u001b[0m\u001b[0;34m\u001b[0m\u001b[0m\n\u001b[1;32m   4025\u001b[0m         \"\"\"\n\u001b[0;32m-> 4026\u001b[0;31m         \u001b[0mdata\u001b[0m \u001b[0;34m=\u001b[0m \u001b[0mself\u001b[0m\u001b[0;34m.\u001b[0m\u001b[0m_data\u001b[0m\u001b[0;34m.\u001b[0m\u001b[0mcopy\u001b[0m\u001b[0;34m(\u001b[0m\u001b[0mdeep\u001b[0m\u001b[0;34m=\u001b[0m\u001b[0mdeep\u001b[0m\u001b[0;34m)\u001b[0m\u001b[0;34m\u001b[0m\u001b[0m\n\u001b[0m\u001b[1;32m   4027\u001b[0m         \u001b[0;32mreturn\u001b[0m \u001b[0mself\u001b[0m\u001b[0;34m.\u001b[0m\u001b[0m_constructor\u001b[0m\u001b[0;34m(\u001b[0m\u001b[0mdata\u001b[0m\u001b[0;34m)\u001b[0m\u001b[0;34m.\u001b[0m\u001b[0m__finalize__\u001b[0m\u001b[0;34m(\u001b[0m\u001b[0mself\u001b[0m\u001b[0;34m)\u001b[0m\u001b[0;34m\u001b[0m\u001b[0m\n\u001b[1;32m   4028\u001b[0m \u001b[0;34m\u001b[0m\u001b[0m\n",
      "\u001b[0;32m~/miniconda3/lib/python3.6/site-packages/pandas/core/internals.py\u001b[0m in \u001b[0;36mcopy\u001b[0;34m(self, deep, mgr)\u001b[0m\n\u001b[1;32m   3662\u001b[0m             \u001b[0mnew_axes\u001b[0m \u001b[0;34m=\u001b[0m \u001b[0mlist\u001b[0m\u001b[0;34m(\u001b[0m\u001b[0mself\u001b[0m\u001b[0;34m.\u001b[0m\u001b[0maxes\u001b[0m\u001b[0;34m)\u001b[0m\u001b[0;34m\u001b[0m\u001b[0m\n\u001b[1;32m   3663\u001b[0m         return self.apply('copy', axes=new_axes, deep=deep,\n\u001b[0;32m-> 3664\u001b[0;31m                           do_integrity_check=False)\n\u001b[0m\u001b[1;32m   3665\u001b[0m \u001b[0;34m\u001b[0m\u001b[0m\n\u001b[1;32m   3666\u001b[0m     \u001b[0;32mdef\u001b[0m \u001b[0mas_matrix\u001b[0m\u001b[0;34m(\u001b[0m\u001b[0mself\u001b[0m\u001b[0;34m,\u001b[0m \u001b[0mitems\u001b[0m\u001b[0;34m=\u001b[0m\u001b[0;32mNone\u001b[0m\u001b[0;34m)\u001b[0m\u001b[0;34m:\u001b[0m\u001b[0;34m\u001b[0m\u001b[0m\n",
      "\u001b[0;32m~/miniconda3/lib/python3.6/site-packages/pandas/core/internals.py\u001b[0m in \u001b[0;36mapply\u001b[0;34m(self, f, axes, filter, do_integrity_check, consolidate, **kwargs)\u001b[0m\n\u001b[1;32m   3283\u001b[0m \u001b[0;34m\u001b[0m\u001b[0m\n\u001b[1;32m   3284\u001b[0m         \u001b[0;32mif\u001b[0m \u001b[0mconsolidate\u001b[0m\u001b[0;34m:\u001b[0m\u001b[0;34m\u001b[0m\u001b[0m\n\u001b[0;32m-> 3285\u001b[0;31m             \u001b[0mself\u001b[0m\u001b[0;34m.\u001b[0m\u001b[0m_consolidate_inplace\u001b[0m\u001b[0;34m(\u001b[0m\u001b[0;34m)\u001b[0m\u001b[0;34m\u001b[0m\u001b[0m\n\u001b[0m\u001b[1;32m   3286\u001b[0m \u001b[0;34m\u001b[0m\u001b[0m\n\u001b[1;32m   3287\u001b[0m         \u001b[0;32mif\u001b[0m \u001b[0mf\u001b[0m \u001b[0;34m==\u001b[0m \u001b[0;34m'where'\u001b[0m\u001b[0;34m:\u001b[0m\u001b[0;34m\u001b[0m\u001b[0m\n",
      "\u001b[0;32m~/miniconda3/lib/python3.6/site-packages/pandas/core/internals.py\u001b[0m in \u001b[0;36m_consolidate_inplace\u001b[0;34m(self)\u001b[0m\n\u001b[1;32m   3829\u001b[0m     \u001b[0;32mdef\u001b[0m \u001b[0m_consolidate_inplace\u001b[0m\u001b[0;34m(\u001b[0m\u001b[0mself\u001b[0m\u001b[0;34m)\u001b[0m\u001b[0;34m:\u001b[0m\u001b[0;34m\u001b[0m\u001b[0m\n\u001b[1;32m   3830\u001b[0m         \u001b[0;32mif\u001b[0m \u001b[0;32mnot\u001b[0m \u001b[0mself\u001b[0m\u001b[0;34m.\u001b[0m\u001b[0mis_consolidated\u001b[0m\u001b[0;34m(\u001b[0m\u001b[0;34m)\u001b[0m\u001b[0;34m:\u001b[0m\u001b[0;34m\u001b[0m\u001b[0m\n\u001b[0;32m-> 3831\u001b[0;31m             \u001b[0mself\u001b[0m\u001b[0;34m.\u001b[0m\u001b[0mblocks\u001b[0m \u001b[0;34m=\u001b[0m \u001b[0mtuple\u001b[0m\u001b[0;34m(\u001b[0m\u001b[0m_consolidate\u001b[0m\u001b[0;34m(\u001b[0m\u001b[0mself\u001b[0m\u001b[0;34m.\u001b[0m\u001b[0mblocks\u001b[0m\u001b[0;34m)\u001b[0m\u001b[0;34m)\u001b[0m\u001b[0;34m\u001b[0m\u001b[0m\n\u001b[0m\u001b[1;32m   3832\u001b[0m             \u001b[0mself\u001b[0m\u001b[0;34m.\u001b[0m\u001b[0m_is_consolidated\u001b[0m \u001b[0;34m=\u001b[0m \u001b[0;32mTrue\u001b[0m\u001b[0;34m\u001b[0m\u001b[0m\n\u001b[1;32m   3833\u001b[0m             \u001b[0mself\u001b[0m\u001b[0;34m.\u001b[0m\u001b[0m_known_consolidated\u001b[0m \u001b[0;34m=\u001b[0m \u001b[0;32mTrue\u001b[0m\u001b[0;34m\u001b[0m\u001b[0m\n",
      "\u001b[0;32m~/miniconda3/lib/python3.6/site-packages/pandas/core/internals.py\u001b[0m in \u001b[0;36m_consolidate\u001b[0;34m(blocks)\u001b[0m\n\u001b[1;32m   4851\u001b[0m     \u001b[0;32mfor\u001b[0m \u001b[0;34m(\u001b[0m\u001b[0m_can_consolidate\u001b[0m\u001b[0;34m,\u001b[0m \u001b[0mdtype\u001b[0m\u001b[0;34m)\u001b[0m\u001b[0;34m,\u001b[0m \u001b[0mgroup_blocks\u001b[0m \u001b[0;32min\u001b[0m \u001b[0mgrouper\u001b[0m\u001b[0;34m:\u001b[0m\u001b[0;34m\u001b[0m\u001b[0m\n\u001b[1;32m   4852\u001b[0m         merged_blocks = _merge_blocks(list(group_blocks), dtype=dtype,\n\u001b[0;32m-> 4853\u001b[0;31m                                       _can_consolidate=_can_consolidate)\n\u001b[0m\u001b[1;32m   4854\u001b[0m         \u001b[0mnew_blocks\u001b[0m \u001b[0;34m=\u001b[0m \u001b[0m_extend_blocks\u001b[0m\u001b[0;34m(\u001b[0m\u001b[0mmerged_blocks\u001b[0m\u001b[0;34m,\u001b[0m \u001b[0mnew_blocks\u001b[0m\u001b[0;34m)\u001b[0m\u001b[0;34m\u001b[0m\u001b[0m\n\u001b[1;32m   4855\u001b[0m     \u001b[0;32mreturn\u001b[0m \u001b[0mnew_blocks\u001b[0m\u001b[0;34m\u001b[0m\u001b[0m\n",
      "\u001b[0;32m~/miniconda3/lib/python3.6/site-packages/pandas/core/internals.py\u001b[0m in \u001b[0;36m_merge_blocks\u001b[0;34m(blocks, dtype, _can_consolidate)\u001b[0m\n\u001b[1;32m   4871\u001b[0m         \u001b[0;31m# combination of those slices is a slice, too.\u001b[0m\u001b[0;34m\u001b[0m\u001b[0;34m\u001b[0m\u001b[0m\n\u001b[1;32m   4872\u001b[0m         \u001b[0mnew_mgr_locs\u001b[0m \u001b[0;34m=\u001b[0m \u001b[0mnp\u001b[0m\u001b[0;34m.\u001b[0m\u001b[0mconcatenate\u001b[0m\u001b[0;34m(\u001b[0m\u001b[0;34m[\u001b[0m\u001b[0mb\u001b[0m\u001b[0;34m.\u001b[0m\u001b[0mmgr_locs\u001b[0m\u001b[0;34m.\u001b[0m\u001b[0mas_array\u001b[0m \u001b[0;32mfor\u001b[0m \u001b[0mb\u001b[0m \u001b[0;32min\u001b[0m \u001b[0mblocks\u001b[0m\u001b[0;34m]\u001b[0m\u001b[0;34m)\u001b[0m\u001b[0;34m\u001b[0m\u001b[0m\n\u001b[0;32m-> 4873\u001b[0;31m         \u001b[0mnew_values\u001b[0m \u001b[0;34m=\u001b[0m \u001b[0m_vstack\u001b[0m\u001b[0;34m(\u001b[0m\u001b[0;34m[\u001b[0m\u001b[0mb\u001b[0m\u001b[0;34m.\u001b[0m\u001b[0mvalues\u001b[0m \u001b[0;32mfor\u001b[0m \u001b[0mb\u001b[0m \u001b[0;32min\u001b[0m \u001b[0mblocks\u001b[0m\u001b[0;34m]\u001b[0m\u001b[0;34m,\u001b[0m \u001b[0mdtype\u001b[0m\u001b[0;34m)\u001b[0m\u001b[0;34m\u001b[0m\u001b[0m\n\u001b[0m\u001b[1;32m   4874\u001b[0m \u001b[0;34m\u001b[0m\u001b[0m\n\u001b[1;32m   4875\u001b[0m         \u001b[0margsort\u001b[0m \u001b[0;34m=\u001b[0m \u001b[0mnp\u001b[0m\u001b[0;34m.\u001b[0m\u001b[0margsort\u001b[0m\u001b[0;34m(\u001b[0m\u001b[0mnew_mgr_locs\u001b[0m\u001b[0;34m)\u001b[0m\u001b[0;34m\u001b[0m\u001b[0m\n",
      "\u001b[0;32m~/miniconda3/lib/python3.6/site-packages/pandas/core/internals.py\u001b[0m in \u001b[0;36m_vstack\u001b[0;34m(to_stack, dtype)\u001b[0m\n\u001b[1;32m   4917\u001b[0m \u001b[0;34m\u001b[0m\u001b[0m\n\u001b[1;32m   4918\u001b[0m     \u001b[0;32melse\u001b[0m\u001b[0;34m:\u001b[0m\u001b[0;34m\u001b[0m\u001b[0m\n\u001b[0;32m-> 4919\u001b[0;31m         \u001b[0;32mreturn\u001b[0m \u001b[0mnp\u001b[0m\u001b[0;34m.\u001b[0m\u001b[0mvstack\u001b[0m\u001b[0;34m(\u001b[0m\u001b[0mto_stack\u001b[0m\u001b[0;34m)\u001b[0m\u001b[0;34m\u001b[0m\u001b[0m\n\u001b[0m\u001b[1;32m   4920\u001b[0m \u001b[0;34m\u001b[0m\u001b[0m\n\u001b[1;32m   4921\u001b[0m \u001b[0;34m\u001b[0m\u001b[0m\n",
      "\u001b[0;32m~/miniconda3/lib/python3.6/site-packages/numpy/core/shape_base.py\u001b[0m in \u001b[0;36mvstack\u001b[0;34m(tup)\u001b[0m\n\u001b[1;32m    232\u001b[0m \u001b[0;34m\u001b[0m\u001b[0m\n\u001b[1;32m    233\u001b[0m     \"\"\"\n\u001b[0;32m--> 234\u001b[0;31m     \u001b[0;32mreturn\u001b[0m \u001b[0m_nx\u001b[0m\u001b[0;34m.\u001b[0m\u001b[0mconcatenate\u001b[0m\u001b[0;34m(\u001b[0m\u001b[0;34m[\u001b[0m\u001b[0matleast_2d\u001b[0m\u001b[0;34m(\u001b[0m\u001b[0m_m\u001b[0m\u001b[0;34m)\u001b[0m \u001b[0;32mfor\u001b[0m \u001b[0m_m\u001b[0m \u001b[0;32min\u001b[0m \u001b[0mtup\u001b[0m\u001b[0;34m]\u001b[0m\u001b[0;34m,\u001b[0m \u001b[0;36m0\u001b[0m\u001b[0;34m)\u001b[0m\u001b[0;34m\u001b[0m\u001b[0m\n\u001b[0m\u001b[1;32m    235\u001b[0m \u001b[0;34m\u001b[0m\u001b[0m\n\u001b[1;32m    236\u001b[0m \u001b[0;32mdef\u001b[0m \u001b[0mhstack\u001b[0m\u001b[0;34m(\u001b[0m\u001b[0mtup\u001b[0m\u001b[0;34m)\u001b[0m\u001b[0;34m:\u001b[0m\u001b[0;34m\u001b[0m\u001b[0m\n",
      "\u001b[0;31mMemoryError\u001b[0m: "
     ]
    }
   ],
   "source": [
    "df = pd.concat([pd.read_parquet(f)for f in glob.glob('data/simog/anac/*')],axis=1).reset_index()"
   ]
  },
  {
   "cell_type": "code",
   "execution_count": 3,
   "metadata": {},
   "outputs": [],
   "source": [
    "df = pd.read_parquet(\"data/simog/anac/000000_0\")\n",
    "#df = pd.read_json(\"data/simog/simog.json\",  lines=True, chunksize=100000)"
   ]
  },
  {
   "cell_type": "code",
   "execution_count": 4,
   "metadata": {},
   "outputs": [
    {
     "data": {
      "text/html": [
       "<div>\n",
       "<style scoped>\n",
       "    .dataframe tbody tr th:only-of-type {\n",
       "        vertical-align: middle;\n",
       "    }\n",
       "\n",
       "    .dataframe tbody tr th {\n",
       "        vertical-align: top;\n",
       "    }\n",
       "\n",
       "    .dataframe thead th {\n",
       "        text-align: right;\n",
       "    }\n",
       "</style>\n",
       "<table border=\"1\" class=\"dataframe\">\n",
       "  <thead>\n",
       "    <tr style=\"text-align: right;\">\n",
       "      <th></th>\n",
       "      <th>cf_amministrazione</th>\n",
       "      <th>denominazione_amministrazione</th>\n",
       "      <th>data_pubblicazione</th>\n",
       "      <th>id_gara</th>\n",
       "      <th>cig</th>\n",
       "      <th>oggetto_gara</th>\n",
       "      <th>oggetto_lotto</th>\n",
       "      <th>cig_acc_quadro</th>\n",
       "      <th>codice_cpv</th>\n",
       "      <th>descrizione_cpv</th>\n",
       "      <th>...</th>\n",
       "      <th>luogo_istat</th>\n",
       "      <th>sigla_provincia</th>\n",
       "      <th>luogo_nuts</th>\n",
       "      <th>flag_escluso</th>\n",
       "      <th>motivo_esclusione</th>\n",
       "      <th>id_categoria_prevalente</th>\n",
       "      <th>descrizione_categoria</th>\n",
       "      <th>data_aggiudicazione_def</th>\n",
       "      <th>ts</th>\n",
       "      <th>processing_dttm</th>\n",
       "    </tr>\n",
       "  </thead>\n",
       "  <tbody>\n",
       "    <tr>\n",
       "      <th>0</th>\n",
       "      <td>00360090393</td>\n",
       "      <td>COMUNE DI CERVIA</td>\n",
       "      <td>2008-10-23</td>\n",
       "      <td>296703</td>\n",
       "      <td>0221558371</td>\n",
       "      <td>FORNITURA E INSTALLAZIONE DI HARDWARE E SOFTWA...</td>\n",
       "      <td>FORNITURA E INSTALLAZIONE DI HARDWARE E SOFTWA...</td>\n",
       "      <td></td>\n",
       "      <td>30251000-3</td>\n",
       "      <td>SISTEMA DI CONTROLLO INFORMATICO.</td>\n",
       "      <td>...</td>\n",
       "      <td>039007</td>\n",
       "      <td>IT-RA</td>\n",
       "      <td></td>\n",
       "      <td>N</td>\n",
       "      <td></td>\n",
       "      <td>FB</td>\n",
       "      <td>FORNITURA DI BENI</td>\n",
       "      <td>2008-12-31</td>\n",
       "      <td>2018-06-25 10:11:03.853</td>\n",
       "      <td>1530200410647</td>\n",
       "    </tr>\n",
       "    <tr>\n",
       "      <th>1</th>\n",
       "      <td>00360090393</td>\n",
       "      <td>COMUNE DI CERVIA</td>\n",
       "      <td>2008-11-06</td>\n",
       "      <td>305319</td>\n",
       "      <td>0230452EFD</td>\n",
       "      <td>INTERVENTI DI MANUTENZIONE STRAORDINARIA A SEN...</td>\n",
       "      <td>INTERVENTI DI MANUTENZIONE STRAORDINARIA A SEN...</td>\n",
       "      <td></td>\n",
       "      <td>50870000-4</td>\n",
       "      <td>SERVIZI DI RIPARAZIONE E MANUTENZIONE DI PARCH...</td>\n",
       "      <td>...</td>\n",
       "      <td></td>\n",
       "      <td></td>\n",
       "      <td></td>\n",
       "      <td>N</td>\n",
       "      <td></td>\n",
       "      <td>OS24</td>\n",
       "      <td>OS24 - Verde e arredo urbano</td>\n",
       "      <td></td>\n",
       "      <td>2018-06-25 10:11:03.853</td>\n",
       "      <td>1530200410647</td>\n",
       "    </tr>\n",
       "    <tr>\n",
       "      <th>2</th>\n",
       "      <td>81000730309</td>\n",
       "      <td>COMUNE DI CERVIGNANO DEL FRIULI</td>\n",
       "      <td>2008-11-11</td>\n",
       "      <td>305535</td>\n",
       "      <td>023063238B</td>\n",
       "      <td>LAVORI DI SISTEMAZIONE STRADALE CAPOLUOGO E FR...</td>\n",
       "      <td>LAVORI DI SISTEMAZIONE STRADALE CAPOLUOGO E FR...</td>\n",
       "      <td></td>\n",
       "      <td>45233120-6</td>\n",
       "      <td>LAVORI DI COSTRUZIONE DI STRADE</td>\n",
       "      <td>...</td>\n",
       "      <td>030023</td>\n",
       "      <td>IT-UD</td>\n",
       "      <td></td>\n",
       "      <td>N</td>\n",
       "      <td></td>\n",
       "      <td>OG3</td>\n",
       "      <td>OG3 - Strade, autostrade, ponti, viadotti, fer...</td>\n",
       "      <td>2008-12-24</td>\n",
       "      <td>2018-06-25 10:11:03.853</td>\n",
       "      <td>1530200410647</td>\n",
       "    </tr>\n",
       "    <tr>\n",
       "      <th>3</th>\n",
       "      <td>00143280402</td>\n",
       "      <td>COMUNE DI CESENA</td>\n",
       "      <td>2008-11-14</td>\n",
       "      <td>304179</td>\n",
       "      <td>02292807D5</td>\n",
       "      <td>PROGETTO DI SISTEMAZIONE DI VARI MOVIMENTI FRA...</td>\n",
       "      <td>INTERVENTI DI CONSOLIDAMENTO NEL COMPARTO FORM...</td>\n",
       "      <td></td>\n",
       "      <td>45000000-7</td>\n",
       "      <td>LAVORI DI COSTRUZIONE</td>\n",
       "      <td>...</td>\n",
       "      <td></td>\n",
       "      <td></td>\n",
       "      <td></td>\n",
       "      <td>N</td>\n",
       "      <td></td>\n",
       "      <td>OG3</td>\n",
       "      <td>OG3 - Strade, autostrade, ponti, viadotti, fer...</td>\n",
       "      <td></td>\n",
       "      <td>2018-06-25 10:11:03.853</td>\n",
       "      <td>1530200410647</td>\n",
       "    </tr>\n",
       "    <tr>\n",
       "      <th>4</th>\n",
       "      <td>00098000698</td>\n",
       "      <td>COMUNE DI CHIETI</td>\n",
       "      <td>2008-10-17</td>\n",
       "      <td>296420</td>\n",
       "      <td>0221319E33</td>\n",
       "      <td>Servizi Assicurativi dell'Ente</td>\n",
       "      <td>Kasko dipendenti in missione</td>\n",
       "      <td></td>\n",
       "      <td>66430000-3</td>\n",
       "      <td>ALTRI SERVIZI DI RIASSICURAZIONE NON VITA.</td>\n",
       "      <td>...</td>\n",
       "      <td></td>\n",
       "      <td></td>\n",
       "      <td></td>\n",
       "      <td>N</td>\n",
       "      <td></td>\n",
       "      <td>FS</td>\n",
       "      <td>FORNITURA DI SERVIZI</td>\n",
       "      <td></td>\n",
       "      <td>2018-06-25 10:11:03.853</td>\n",
       "      <td>1530200410647</td>\n",
       "    </tr>\n",
       "  </tbody>\n",
       "</table>\n",
       "<p>5 rows × 26 columns</p>\n",
       "</div>"
      ],
      "text/plain": [
       "  cf_amministrazione    denominazione_amministrazione data_pubblicazione  \\\n",
       "0        00360090393                 COMUNE DI CERVIA         2008-10-23   \n",
       "1        00360090393                 COMUNE DI CERVIA         2008-11-06   \n",
       "2        81000730309  COMUNE DI CERVIGNANO DEL FRIULI         2008-11-11   \n",
       "3        00143280402                 COMUNE DI CESENA         2008-11-14   \n",
       "4        00098000698                 COMUNE DI CHIETI         2008-10-17   \n",
       "\n",
       "  id_gara         cig                                       oggetto_gara  \\\n",
       "0  296703  0221558371  FORNITURA E INSTALLAZIONE DI HARDWARE E SOFTWA...   \n",
       "1  305319  0230452EFD  INTERVENTI DI MANUTENZIONE STRAORDINARIA A SEN...   \n",
       "2  305535  023063238B  LAVORI DI SISTEMAZIONE STRADALE CAPOLUOGO E FR...   \n",
       "3  304179  02292807D5  PROGETTO DI SISTEMAZIONE DI VARI MOVIMENTI FRA...   \n",
       "4  296420  0221319E33                     Servizi Assicurativi dell'Ente   \n",
       "\n",
       "                                       oggetto_lotto cig_acc_quadro  \\\n",
       "0  FORNITURA E INSTALLAZIONE DI HARDWARE E SOFTWA...                  \n",
       "1  INTERVENTI DI MANUTENZIONE STRAORDINARIA A SEN...                  \n",
       "2  LAVORI DI SISTEMAZIONE STRADALE CAPOLUOGO E FR...                  \n",
       "3  INTERVENTI DI CONSOLIDAMENTO NEL COMPARTO FORM...                  \n",
       "4                       Kasko dipendenti in missione                  \n",
       "\n",
       "   codice_cpv                                    descrizione_cpv  \\\n",
       "0  30251000-3                  SISTEMA DI CONTROLLO INFORMATICO.   \n",
       "1  50870000-4  SERVIZI DI RIPARAZIONE E MANUTENZIONE DI PARCH...   \n",
       "2  45233120-6                    LAVORI DI COSTRUZIONE DI STRADE   \n",
       "3  45000000-7                              LAVORI DI COSTRUZIONE   \n",
       "4  66430000-3         ALTRI SERVIZI DI RIASSICURAZIONE NON VITA.   \n",
       "\n",
       "        ...       luogo_istat sigla_provincia  luogo_nuts flag_escluso  \\\n",
       "0       ...            039007           IT-RA                        N   \n",
       "1       ...                                                          N   \n",
       "2       ...            030023           IT-UD                        N   \n",
       "3       ...                                                          N   \n",
       "4       ...                                                          N   \n",
       "\n",
       "  motivo_esclusione id_categoria_prevalente  \\\n",
       "0                                        FB   \n",
       "1                                      OS24   \n",
       "2                                       OG3   \n",
       "3                                       OG3   \n",
       "4                                        FS   \n",
       "\n",
       "                               descrizione_categoria data_aggiudicazione_def  \\\n",
       "0                                  FORNITURA DI BENI              2008-12-31   \n",
       "1                       OS24 - Verde e arredo urbano                           \n",
       "2  OG3 - Strade, autostrade, ponti, viadotti, fer...              2008-12-24   \n",
       "3  OG3 - Strade, autostrade, ponti, viadotti, fer...                           \n",
       "4                               FORNITURA DI SERVIZI                           \n",
       "\n",
       "                        ts processing_dttm  \n",
       "0  2018-06-25 10:11:03.853   1530200410647  \n",
       "1  2018-06-25 10:11:03.853   1530200410647  \n",
       "2  2018-06-25 10:11:03.853   1530200410647  \n",
       "3  2018-06-25 10:11:03.853   1530200410647  \n",
       "4  2018-06-25 10:11:03.853   1530200410647  \n",
       "\n",
       "[5 rows x 26 columns]"
      ]
     },
     "execution_count": 4,
     "metadata": {},
     "output_type": "execute_result"
    }
   ],
   "source": [
    "df.head()"
   ]
  },
  {
   "cell_type": "code",
   "execution_count": null,
   "metadata": {},
   "outputs": [],
   "source": [
    "df.columns"
   ]
  },
  {
   "cell_type": "code",
   "execution_count": null,
   "metadata": {},
   "outputs": [],
   "source": [
    "def filterIT(s):\n",
    "    try:\n",
    "        m_obj = re.search(r'^(302|35710000|39134000|39134100|42960000|48|503|72|80533)', s)\n",
    "        if m_obj:\n",
    "            return True\n",
    "        return False\n",
    "    \n",
    "    except:\n",
    "        return False"
   ]
  },
  {
   "cell_type": "code",
   "execution_count": null,
   "metadata": {},
   "outputs": [],
   "source": [
    "it_df = df[df.codice_cpv.apply(filterIT)]\n",
    "it_df['data_pubblicazione'] = pd.to_datetime(it_df['data_pubblicazione'], errors='coerce')\n",
    "it_df['data_aggiudicazione_def'] = pd.to_datetime(it_df['data_aggiudicazione_def'], errors='coerce')"
   ]
  },
  {
   "cell_type": "code",
   "execution_count": null,
   "metadata": {},
   "outputs": [],
   "source": [
    "it_df[\"importo_totale_bando_n\"] = pd.to_numeric(it_df.importo_totale_bando, errors='coerce')\n"
   ]
  },
  {
   "cell_type": "code",
   "execution_count": null,
   "metadata": {},
   "outputs": [],
   "source": [
    "it_df[\"data_pubblicazione_anno\"] = it_df.data_pubblicazione.apply(lambda x: x.year)\n",
    "#it_df[\"data_pubblicazione_anno\"].value_counts()\n",
    "\n",
    "it_df[\"data_aggiudicazione_def_anno\"] = it_df.data_aggiudicazione_def.apply(lambda x: x.year)\n",
    "#it_df[\"data_aggiudicazione_def_anno\"].value_counts()"
   ]
  },
  {
   "cell_type": "code",
   "execution_count": null,
   "metadata": {},
   "outputs": [],
   "source": [
    "import seaborn as sns\n",
    "sns.countplot(x=\"data_pubblicazione_anno\", data=it_df)\n",
    "plt.xticks(rotation=90)"
   ]
  },
  {
   "cell_type": "code",
   "execution_count": null,
   "metadata": {},
   "outputs": [],
   "source": [
    "import seaborn as sns\n",
    "sns.countplot(x=\"data_aggiudicazione_def_anno\", data=it_df)\n",
    "plt.xticks(rotation=90)"
   ]
  },
  {
   "cell_type": "code",
   "execution_count": null,
   "metadata": {},
   "outputs": [],
   "source": [
    "for y in range(2014, 2018):\n",
    "    print(y, it_df[it_df[\"data_aggiudicazione_def_anno\"] == y].importo_totale_bando_n.sum())"
   ]
  },
  {
   "cell_type": "code",
   "execution_count": null,
   "metadata": {},
   "outputs": [],
   "source": [
    "it_df[\"scelta_contraente\"]"
   ]
  },
  {
   "cell_type": "code",
   "execution_count": null,
   "metadata": {},
   "outputs": [],
   "source": [
    "it_df[(it_df[\"importo_totale_bando_n\"].isnull()) & (~it_df[\"importo_totale_bando\"].isnull())].shape"
   ]
  },
  {
   "cell_type": "code",
   "execution_count": null,
   "metadata": {},
   "outputs": [],
   "source": [
    "it_df[[\"importo_totale_bando\", \"ts\", \"data_pubblicazione\" ,\"scelta_contraente\"]]"
   ]
  },
  {
   "cell_type": "code",
   "execution_count": null,
   "metadata": {},
   "outputs": [],
   "source": []
  }
 ],
 "metadata": {
  "kernelspec": {
   "display_name": "Python 3",
   "language": "python",
   "name": "python3"
  },
  "language_info": {
   "codemirror_mode": {
    "name": "ipython",
    "version": 3
   },
   "file_extension": ".py",
   "mimetype": "text/x-python",
   "name": "python",
   "nbconvert_exporter": "python",
   "pygments_lexer": "ipython3",
   "version": "3.6.3"
  }
 },
 "nbformat": 4,
 "nbformat_minor": 2
}
